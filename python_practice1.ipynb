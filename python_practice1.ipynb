{
 "cells": [
  {
   "cell_type": "code",
   "execution_count": 2,
   "id": "61d29aa8",
   "metadata": {},
   "outputs": [
    {
     "data": {
      "text/plain": [
       "'youtube'"
      ]
     },
     "execution_count": 2,
     "metadata": {},
     "output_type": "execute_result"
    }
   ],
   "source": [
    "name='youtube'\n",
    "name"
   ]
  },
  {
   "cell_type": "code",
   "execution_count": 3,
   "id": "92acc0b1",
   "metadata": {},
   "outputs": [
    {
     "data": {
      "text/plain": [
       "'t'"
      ]
     },
     "execution_count": 3,
     "metadata": {},
     "output_type": "execute_result"
    }
   ],
   "source": [
    "name[3]"
   ]
  },
  {
   "cell_type": "code",
   "execution_count": 4,
   "id": "acbe4ba4",
   "metadata": {},
   "outputs": [
    {
     "data": {
      "text/plain": [
       "'e'"
      ]
     },
     "execution_count": 4,
     "metadata": {},
     "output_type": "execute_result"
    }
   ],
   "source": [
    "name[-1]"
   ]
  },
  {
   "cell_type": "code",
   "execution_count": 6,
   "id": "3c65ceeb",
   "metadata": {},
   "outputs": [
    {
     "data": {
      "text/plain": [
       "'youtube rocks'"
      ]
     },
     "execution_count": 6,
     "metadata": {},
     "output_type": "execute_result"
    }
   ],
   "source": [
    "name='youtube rocks'\n",
    "name"
   ]
  },
  {
   "cell_type": "code",
   "execution_count": 9,
   "id": "01c786d4",
   "metadata": {},
   "outputs": [
    {
     "data": {
      "text/plain": [
       "'you'"
      ]
     },
     "execution_count": 9,
     "metadata": {},
     "output_type": "execute_result"
    }
   ],
   "source": [
    "name[0:3]"
   ]
  },
  {
   "cell_type": "code",
   "execution_count": 10,
   "id": "b6844cac",
   "metadata": {},
   "outputs": [
    {
     "data": {
      "text/plain": [
       "'rock'"
      ]
     },
     "execution_count": 10,
     "metadata": {},
     "output_type": "execute_result"
    }
   ],
   "source": [
    "name[8:12]"
   ]
  },
  {
   "cell_type": "code",
   "execution_count": 20,
   "id": "4eeb03ca",
   "metadata": {},
   "outputs": [
    {
     "data": {
      "text/plain": [
       "'rockstube'"
      ]
     },
     "execution_count": 20,
     "metadata": {},
     "output_type": "execute_result"
    }
   ],
   "source": [
    "name[8:]+name[3:7]"
   ]
  },
  {
   "cell_type": "code",
   "execution_count": 39,
   "id": "252462aa",
   "metadata": {},
   "outputs": [
    {
     "data": {
      "text/plain": [
       "'rocks tube'"
      ]
     },
     "execution_count": 39,
     "metadata": {},
     "output_type": "execute_result"
    }
   ],
   "source": [
    "name[8:]+name[7:8]+name [3:7]"
   ]
  },
  {
   "cell_type": "code",
   "execution_count": 40,
   "id": "b5dad25f",
   "metadata": {},
   "outputs": [
    {
     "data": {
      "text/plain": [
       "'yuuercs'"
      ]
     },
     "execution_count": 40,
     "metadata": {},
     "output_type": "execute_result"
    }
   ],
   "source": [
    "name[0:13:2]"
   ]
  },
  {
   "cell_type": "code",
   "execution_count": 41,
   "id": "144587aa",
   "metadata": {},
   "outputs": [
    {
     "data": {
      "text/plain": [
       "'yurs'"
      ]
     },
     "execution_count": 41,
     "metadata": {},
     "output_type": "execute_result"
    }
   ],
   "source": [
    "name[0:13:4]"
   ]
  },
  {
   "cell_type": "code",
   "execution_count": 44,
   "id": "3668389c",
   "metadata": {},
   "outputs": [
    {
     "data": {
      "text/plain": [
       "'skcor ebutuoy'"
      ]
     },
     "execution_count": 44,
     "metadata": {},
     "output_type": "execute_result"
    }
   ],
   "source": [
    "name[::-1]"
   ]
  },
  {
   "cell_type": "code",
   "execution_count": 45,
   "id": "2553dad9",
   "metadata": {},
   "outputs": [
    {
     "data": {
      "text/plain": [
       "''"
      ]
     },
     "execution_count": 45,
     "metadata": {},
     "output_type": "execute_result"
    }
   ],
   "source": [
    "name[0:13:-1]"
   ]
  },
  {
   "cell_type": "code",
   "execution_count": 47,
   "id": "fb79dc0c",
   "metadata": {},
   "outputs": [
    {
     "data": {
      "text/plain": [
       "13"
      ]
     },
     "execution_count": 47,
     "metadata": {},
     "output_type": "execute_result"
    }
   ],
   "source": [
    "len(name)"
   ]
  },
  {
   "cell_type": "code",
   "execution_count": 49,
   "id": "c8199d0f",
   "metadata": {},
   "outputs": [
    {
     "data": {
      "text/plain": [
       "False"
      ]
     },
     "execution_count": 49,
     "metadata": {},
     "output_type": "execute_result"
    }
   ],
   "source": [
    "name.isupper()"
   ]
  },
  {
   "cell_type": "code",
   "execution_count": 52,
   "id": "37a54d39",
   "metadata": {},
   "outputs": [
    {
     "data": {
      "text/plain": [
       "True"
      ]
     },
     "execution_count": 52,
     "metadata": {},
     "output_type": "execute_result"
    }
   ],
   "source": [
    "name.islower()"
   ]
  },
  {
   "cell_type": "code",
   "execution_count": 59,
   "id": "b9f51c8c",
   "metadata": {},
   "outputs": [
    {
     "data": {
      "text/plain": [
       "'tb rcs'"
      ]
     },
     "execution_count": 59,
     "metadata": {},
     "output_type": "execute_result"
    }
   ],
   "source": [
    "name[3:8:2]+name[8:13:2]"
   ]
  },
  {
   "cell_type": "code",
   "execution_count": 60,
   "id": "4990ff3b",
   "metadata": {},
   "outputs": [
    {
     "data": {
      "text/plain": [
       "'tb ok'"
      ]
     },
     "execution_count": 60,
     "metadata": {},
     "output_type": "execute_result"
    }
   ],
   "source": [
    "name[3::2]"
   ]
  },
  {
   "cell_type": "code",
   "execution_count": 1,
   "id": "6f6c645b",
   "metadata": {},
   "outputs": [
    {
     "data": {
      "text/plain": [
       "6"
      ]
     },
     "execution_count": 1,
     "metadata": {},
     "output_type": "execute_result"
    }
   ],
   "source": [
    "a=5\n",
    "b=6\n",
    "a=b\n",
    "a"
   ]
  },
  {
   "cell_type": "code",
   "execution_count": 2,
   "id": "de79f8f8",
   "metadata": {},
   "outputs": [
    {
     "data": {
      "text/plain": [
       "3.0"
      ]
     },
     "execution_count": 2,
     "metadata": {},
     "output_type": "execute_result"
    }
   ],
   "source": [
    "a/=2\n",
    "a"
   ]
  },
  {
   "cell_type": "code",
   "execution_count": 3,
   "id": "2214e13a",
   "metadata": {},
   "outputs": [
    {
     "data": {
      "text/plain": [
       "5.0"
      ]
     },
     "execution_count": 3,
     "metadata": {},
     "output_type": "execute_result"
    }
   ],
   "source": [
    "a+=2\n",
    "a"
   ]
  },
  {
   "cell_type": "code",
   "execution_count": 5,
   "id": "576c7c09",
   "metadata": {},
   "outputs": [
    {
     "data": {
      "text/plain": [
       "1.0"
      ]
     },
     "execution_count": 5,
     "metadata": {},
     "output_type": "execute_result"
    }
   ],
   "source": [
    "a%=2\n",
    "a"
   ]
  },
  {
   "cell_type": "code",
   "execution_count": 8,
   "id": "235ff2c5",
   "metadata": {},
   "outputs": [],
   "source": [
    "x=5\n",
    "y=10\n",
    "temp=x\n",
    "x=y\n",
    "y=temp"
   ]
  },
  {
   "cell_type": "code",
   "execution_count": 16,
   "id": "cf57c78e",
   "metadata": {},
   "outputs": [
    {
     "name": "stdout",
     "output_type": "stream",
     "text": [
      "10\n",
      "True\n"
     ]
    }
   ],
   "source": [
    "A=10\n",
    "B=20\n",
    "C=10 or 20\n",
    "D=5>4 or 3<2\n",
    "print(C)\n",
    "print(D)"
   ]
  },
  {
   "cell_type": "code",
   "execution_count": 20,
   "id": "68caf3b7",
   "metadata": {},
   "outputs": [
    {
     "name": "stdout",
     "output_type": "stream",
     "text": [
      "20\n",
      "False\n"
     ]
    }
   ],
   "source": [
    "A=10\n",
    "B=20\n",
    "C=2 and 20\n",
    "D=5>4 and 3<2\n",
    "print(C)\n",
    "print(D)"
   ]
  },
  {
   "cell_type": "code",
   "execution_count": 21,
   "id": "5c0d9dea",
   "metadata": {},
   "outputs": [
    {
     "name": "stdout",
     "output_type": "stream",
     "text": [
      "True\n"
     ]
    }
   ],
   "source": [
    "A=10\n",
    "B=20\n",
    "C=not A>B\n",
    "print(C)"
   ]
  },
  {
   "cell_type": "code",
   "execution_count": 23,
   "id": "fef01fa8",
   "metadata": {},
   "outputs": [
    {
     "name": "stdout",
     "output_type": "stream",
     "text": [
      "True\n"
     ]
    }
   ],
   "source": [
    "A=5*2\n",
    "B=5*2.0\n",
    "print(A==B)"
   ]
  },
  {
   "cell_type": "code",
   "execution_count": 29,
   "id": "6f55ce3d",
   "metadata": {},
   "outputs": [
    {
     "name": "stdout",
     "output_type": "stream",
     "text": [
      "enter the farh 50\n",
      "10.0\n"
     ]
    }
   ],
   "source": [
    "f=float(input(\"enter the farh \"))\n",
    "c=(f-32)*5/9\n",
    "print(c)"
   ]
  },
  {
   "cell_type": "code",
   "execution_count": 33,
   "id": "1b0ec22a",
   "metadata": {},
   "outputs": [
    {
     "data": {
      "text/plain": [
       "-24"
      ]
     },
     "execution_count": 33,
     "metadata": {},
     "output_type": "execute_result"
    }
   ],
   "source": [
    "((5%5)+(5//5)-(5*5))"
   ]
  },
  {
   "cell_type": "code",
   "execution_count": 34,
   "id": "1747be1e",
   "metadata": {},
   "outputs": [
    {
     "data": {
      "text/plain": [
       "12"
      ]
     },
     "execution_count": 34,
     "metadata": {},
     "output_type": "execute_result"
    }
   ],
   "source": [
    "((6+6)//(6-6*6)**(6%6))"
   ]
  },
  {
   "cell_type": "code",
   "execution_count": 35,
   "id": "078a7b2e",
   "metadata": {},
   "outputs": [
    {
     "data": {
      "text/plain": [
       "-7.5"
      ]
     },
     "execution_count": 35,
     "metadata": {},
     "output_type": "execute_result"
    }
   ],
   "source": [
    "((5%10)+(10.5-23)*(4.8//3))"
   ]
  },
  {
   "cell_type": "code",
   "execution_count": 3,
   "id": "59631c09",
   "metadata": {},
   "outputs": [
    {
     "name": "stdout",
     "output_type": "stream",
     "text": [
      "ALL IS WELL\n",
      "False\n",
      "False\n",
      "True\n",
      "False\n"
     ]
    }
   ],
   "source": [
    "X=\"ALL IS WELL\"\n",
    "print(X)\n",
    "print(X.isalpha())\n",
    "print(X.isdigit())\n",
    "print(X.isupper())\n",
    "print(X.islower())\n"
   ]
  },
  {
   "cell_type": "code",
   "execution_count": 15,
   "id": "1d53d6e7",
   "metadata": {},
   "outputs": [],
   "source": [
    "X=\"WE ARE DATA SCIENTIST\""
   ]
  },
  {
   "cell_type": "code",
   "execution_count": 16,
   "id": "c3f40daf",
   "metadata": {},
   "outputs": [
    {
     "name": "stdout",
     "output_type": "stream",
     "text": [
      "W R AASINIT\n"
     ]
    }
   ],
   "source": [
    "print(X[::2])"
   ]
  },
  {
   "cell_type": "code",
   "execution_count": 17,
   "id": "77b631be",
   "metadata": {},
   "outputs": [
    {
     "name": "stdout",
     "output_type": "stream",
     "text": [
      "W R AASINIT\n"
     ]
    }
   ],
   "source": [
    "print(X[0:24:2])"
   ]
  },
  {
   "cell_type": "code",
   "execution_count": 22,
   "id": "2c51ec67",
   "metadata": {},
   "outputs": [
    {
     "data": {
      "text/plain": [
       "14"
      ]
     },
     "execution_count": 22,
     "metadata": {},
     "output_type": "execute_result"
    }
   ],
   "source": [
    "x=\"Peter piper picked a peck of pickled peppers.A peck of pickled peppers peters\"\n",
    "x.count('e')"
   ]
  },
  {
   "cell_type": "code",
   "execution_count": 30,
   "id": "fb6c142e",
   "metadata": {},
   "outputs": [
    {
     "name": "stdout",
     "output_type": "stream",
     "text": [
      "yppaH\n"
     ]
    }
   ],
   "source": [
    "X=\"Happy\"\n",
    "print(X[::-1])"
   ]
  },
  {
   "cell_type": "code",
   "execution_count": 31,
   "id": "ed91f1b7",
   "metadata": {},
   "outputs": [
    {
     "name": "stdout",
     "output_type": "stream",
     "text": [
      "HappyHappyHappyHappyHappyHappyHappyHappyHappyHappy\n"
     ]
    }
   ],
   "source": [
    "print(X*10)"
   ]
  },
  {
   "cell_type": "code",
   "execution_count": 33,
   "id": "3094b316",
   "metadata": {},
   "outputs": [
    {
     "name": "stdout",
     "output_type": "stream",
     "text": [
      "I am Happy\n"
     ]
    }
   ],
   "source": [
    "z=\"I am \"\n",
    "print(z+X)"
   ]
  },
  {
   "cell_type": "code",
   "execution_count": 35,
   "id": "e4f82f3d",
   "metadata": {},
   "outputs": [
    {
     "name": "stdout",
     "output_type": "stream",
     "text": [
      "10.638297872340425\n"
     ]
    }
   ],
   "source": [
    "a=2500\n",
    "b=235\n",
    "print(a/b)"
   ]
  },
  {
   "cell_type": "code",
   "execution_count": 3,
   "id": "70035a1d",
   "metadata": {},
   "outputs": [
    {
     "name": "stdout",
     "output_type": "stream",
     "text": [
      "56\n",
      "67\n",
      "67\n",
      "56 67 67\n"
     ]
    }
   ],
   "source": [
    "dead=int (input())\n",
    "injured=int (input())\n",
    "safe=int (input())\n",
    "print(dead,injured,safe)\n"
   ]
  },
  {
   "cell_type": "code",
   "execution_count": 4,
   "id": "2a976d06",
   "metadata": {},
   "outputs": [
    {
     "name": "stdout",
     "output_type": "stream",
     "text": [
      "enter the no5\n",
      "enter the no6\n",
      "11\n",
      "-1\n"
     ]
    }
   ],
   "source": [
    "a=int (input(\"enter the no\"))\n",
    "b=int (input(\"enter the no\"))\n",
    "print(a+b)\n",
    "print(a-b)"
   ]
  },
  {
   "cell_type": "code",
   "execution_count": 9,
   "id": "40943f67",
   "metadata": {},
   "outputs": [
    {
     "name": "stdout",
     "output_type": "stream",
     "text": [
      "enter the no2500\n",
      "enter the no235\n",
      "10.638297872340425\n",
      "150\n"
     ]
    }
   ],
   "source": [
    "a=int(input(\"enter the no\"))\n",
    "b=int(input(\"enter the no\"))\n",
    "print(a/b)\n",
    "print(a%b)"
   ]
  },
  {
   "cell_type": "code",
   "execution_count": 2,
   "id": "b76dc715",
   "metadata": {},
   "outputs": [
    {
     "name": "stdout",
     "output_type": "stream",
     "text": [
      "enter the r4\n",
      "25.12\n"
     ]
    }
   ],
   "source": [
    "r=float(input(\"enter the r\"))\n",
    "pi=3.14\n",
    "c=2*3.14*r\n",
    "print(c)\n",
    "\n"
   ]
  },
  {
   "cell_type": "code",
   "execution_count": 5,
   "id": "2fc12f2d",
   "metadata": {},
   "outputs": [
    {
     "name": "stdout",
     "output_type": "stream",
     "text": [
      "enter the r9\n",
      "enter the a 8\n",
      "1.2560000000000002\n"
     ]
    }
   ],
   "source": [
    "r=float(input(\"enter the r \"))\n",
    "a=float(input(\"enter the a \"))\n",
    "arcc=2*3.14*r*(a/360)\n",
    "print(arcc)"
   ]
  },
  {
   "cell_type": "code",
   "execution_count": 6,
   "id": "d655e4f2",
   "metadata": {},
   "outputs": [
    {
     "name": "stdout",
     "output_type": "stream",
     "text": [
      "enter the r4\n",
      "50.24\n"
     ]
    }
   ],
   "source": [
    "r=int(input(\"enter the r\" ))\n",
    "pi=3.14\n",
    "Area=pi*r*r\n",
    "print(Area)"
   ]
  },
  {
   "cell_type": "code",
   "execution_count": 8,
   "id": "f60bc7d9",
   "metadata": {},
   "outputs": [
    {
     "name": "stdout",
     "output_type": "stream",
     "text": [
      "enter the side8\n",
      "enter the side9\n",
      "145\n"
     ]
    }
   ],
   "source": [
    "side1=int(input(\"enter the side\"))\n",
    "side2=int(input(\"enter the side\"))\n",
    "s=(side1*side1+side2*side2)\n",
    "print(s)"
   ]
  },
  {
   "cell_type": "code",
   "execution_count": 15,
   "id": "1554325a",
   "metadata": {},
   "outputs": [
    {
     "name": "stdout",
     "output_type": "stream",
     "text": [
      "25\n",
      "25\n"
     ]
    }
   ],
   "source": [
    "integer=int(input())\n",
    "character=chr(integer)\n",
    "print(character)"
   ]
  },
  {
   "cell_type": "code",
   "execution_count": null,
   "id": "c5f6df15",
   "metadata": {},
   "outputs": [],
   "source": [
    "integer =int(input(\"enter the char\"))\n",
    "character = char (integer)\n",
    "print(character)"
   ]
  },
  {
   "cell_type": "markdown",
   "id": "7e422eac",
   "metadata": {},
   "source": [
    "write a code to add two values without usng +"
   ]
  },
  {
   "cell_type": "code",
   "execution_count": 23,
   "id": "ac571ce4",
   "metadata": {},
   "outputs": [
    {
     "name": "stdout",
     "output_type": "stream",
     "text": [
      "78\n",
      "78\n"
     ]
    }
   ],
   "source": [
    "integer=int(input())\n",
    "character=chr(integer)\n",
    "print(character)"
   ]
  },
  {
   "cell_type": "code",
   "execution_count": 1,
   "id": "ac62cb16",
   "metadata": {},
   "outputs": [
    {
     "name": "stdout",
     "output_type": "stream",
     "text": [
      "enter the temperature35\n",
      "entr the velocity20\n",
      "23.92128483478926\n"
     ]
    }
   ],
   "source": [
    "a=float(input(\"enter the temperature\"))\n",
    "b=float(input(\"entr the velocity\"))\n",
    "wcf=35.74+0.6215*a+((0.4275*a-35.75)*b**0.16)\n",
    "print(wcf)"
   ]
  },
  {
   "cell_type": "code",
   "execution_count": 8,
   "id": "d259455b",
   "metadata": {},
   "outputs": [
    {
     "name": "stdout",
     "output_type": "stream",
     "text": [
      "enter the num:5\n",
      "odd\n"
     ]
    }
   ],
   "source": [
    "a=int(input(\"enter the num:\"))\n",
    "if a%2==0:\n",
    "    print(\"even\")\n",
    "else:\n",
    "    print(\"odd\")"
   ]
  },
  {
   "cell_type": "code",
   "execution_count": 11,
   "id": "85c44697",
   "metadata": {},
   "outputs": [
    {
     "name": "stdout",
     "output_type": "stream",
     "text": [
      "enter the num:30\n",
      "enter the num90\n",
      "b is greater\n"
     ]
    }
   ],
   "source": [
    "a=int(input(\"enter the num:\"))\n",
    "b=int(input(\"enter the num\"))\n",
    "if a>b:\n",
    "    print(\"a is greater\")\n",
    "else:\n",
    "        print(\"b is greater\")"
   ]
  },
  {
   "cell_type": "code",
   "execution_count": 12,
   "id": "c70745b2",
   "metadata": {},
   "outputs": [
    {
     "name": "stdout",
     "output_type": "stream",
     "text": [
      "enter the num3\n",
      "enter the num3\n",
      "enter the num3\n",
      "both the statement is true\n"
     ]
    }
   ],
   "source": [
    "a=int(input(\"enter the num\"))\n",
    "b=int(input(\"enter the num\"))\n",
    "c=int(input(\"enter the num\"))\n",
    "if a>b:\n",
    "    print(a)\n",
    "elif c>a:\n",
    "    print(c)\n",
    "else:\n",
    "    print(\"both the statement is true\")\n",
    "        \n"
   ]
  },
  {
   "cell_type": "code",
   "execution_count": 3,
   "id": "16a183ac",
   "metadata": {},
   "outputs": [
    {
     "name": "stdout",
     "output_type": "stream",
     "text": [
      "enter the num17\n",
      "a is between 15 and 20\n"
     ]
    }
   ],
   "source": [
    "a=int(input(\"enter the num\"))\n",
    "if a<15:\n",
    "    print(\"a is smaller\")\n",
    "else:\n",
    "    if a>20:\n",
    "        print(\"a is grater than 20\")\n",
    "    else:\n",
    "        print(\"a is between 15 and 20\")"
   ]
  },
  {
   "cell_type": "code",
   "execution_count": 5,
   "id": "44901f5a",
   "metadata": {},
   "outputs": [
    {
     "name": "stdout",
     "output_type": "stream",
     "text": [
      "enter the number67\n",
      "a is greater than 40\n"
     ]
    }
   ],
   "source": [
    "a=int(input( \"enter the number\"))\n",
    "if a>0:\n",
    "    if a>20:\n",
    "        if a>40:\n",
    "            print('a is greater than 40')\n",
    "        else:\n",
    "            print('nothinng')\n",
    "   "
   ]
  },
  {
   "cell_type": "code",
   "execution_count": 15,
   "id": "bc407e6f",
   "metadata": {},
   "outputs": [
    {
     "name": "stdout",
     "output_type": "stream",
     "text": [
      "enter the marks90\n",
      "first division\n"
     ]
    }
   ],
   "source": [
    "a=int(input(\"enter the marks\"))\n",
    "if a>60:\n",
    "    print(\"first division\")\n",
    "elif a>50:\n",
    "    print(\"second division\")\n",
    "elif a<59:\n",
    "    print(\"second division\")\n",
    "elif a>40:\n",
    "    print(\"third division\")\n",
    "elif a<49:\n",
    "    print(\"third division\")\n",
    "else:\n",
    "    print(\"fail\")\n",
    "                                \n",
    "        "
   ]
  },
  {
   "cell_type": "code",
   "execution_count": 10,
   "id": "fdfb6e41",
   "metadata": {},
   "outputs": [
    {
     "name": "stdout",
     "output_type": "stream",
     "text": [
      "enter the yeAR1800\n"
     ]
    }
   ],
   "source": [
    "a=int(input(\"enter the yeAR\"))\n",
    "if a%4==0:\n",
    "    if a%100==0:\n",
    "        if a%400==0:\n",
    "            print(\"leap year\")\n",
    "else:\n",
    "    print(\"not a leap year\")"
   ]
  },
  {
   "cell_type": "code",
   "execution_count": 11,
   "id": "7a611c6b",
   "metadata": {},
   "outputs": [
    {
     "name": "stdout",
     "output_type": "stream",
     "text": [
      "enter the num6\n",
      "num is divisible by 2 and 3\n"
     ]
    }
   ],
   "source": [
    "a=int(input(\"enter the num\"))\n",
    "if a%2==0 and a%3==0:\n",
    "    print(\"num is divisible by 2 and 3\")\n",
    "else:\n",
    "    print(\"num is not divisible by 2 and 3 \")6\n",
    "    \n",
    "\n"
   ]
  },
  {
   "cell_type": "code",
   "execution_count": 5,
   "id": "ddb21284",
   "metadata": {},
   "outputs": [
    {
     "name": "stdout",
     "output_type": "stream",
     "text": [
      "1\n",
      "4\n",
      "9\n",
      "16\n",
      "25\n"
     ]
    }
   ],
   "source": [
    "for i in range(1,6):\n",
    "    print(i*i)"
   ]
  },
  {
   "cell_type": "code",
   "execution_count": 15,
   "id": "db1f95ac",
   "metadata": {
    "scrolled": true
   },
   "outputs": [
    {
     "name": "stdout",
     "output_type": "stream",
     "text": [
      "49\n",
      "25\n",
      "9\n",
      "1\n"
     ]
    }
   ],
   "source": [
    "for i in range(7,0,-2):\n",
    "    print(i*i)"
   ]
  },
  {
   "cell_type": "code",
   "execution_count": 24,
   "id": "f4ab0f2b",
   "metadata": {},
   "outputs": [
    {
     "name": "stdout",
     "output_type": "stream",
     "text": [
      "1250\n",
      "250\n",
      "50\n",
      "10\n",
      "2\n"
     ]
    }
   ],
   "source": [
    "x=1250\n",
    "for i in range(0,5):\n",
    "    print(x)\n",
    "    x=x//5"
   ]
  },
  {
   "cell_type": "code",
   "execution_count": 29,
   "id": "3bedae05",
   "metadata": {},
   "outputs": [
    {
     "name": "stdout",
     "output_type": "stream",
     "text": [
      "1\n",
      "2\n",
      "3\n",
      "4\n",
      "5\n"
     ]
    }
   ],
   "source": [
    "for i in range(1,6):\n",
    "    print(i)"
   ]
  },
  {
   "cell_type": "code",
   "execution_count": 34,
   "id": "53b86f79",
   "metadata": {},
   "outputs": [
    {
     "name": "stdout",
     "output_type": "stream",
     "text": [
      "2\n",
      "10\n",
      "50\n",
      "250\n",
      "1250\n"
     ]
    }
   ],
   "source": [
    "x=2\n",
    "for i in range(0,5):\n",
    "    print(x)\n",
    "    x=x*5"
   ]
  },
  {
   "cell_type": "code",
   "execution_count": 5,
   "id": "c0a86dae",
   "metadata": {},
   "outputs": [
    {
     "name": "stdout",
     "output_type": "stream",
     "text": [
      "1\n",
      "2\n",
      "3\n",
      "4\n",
      "5\n"
     ]
    }
   ],
   "source": [
    "x=1\n",
    "while x<6:\n",
    "    print(x)\n",
    "    x=x+1"
   ]
  },
  {
   "cell_type": "code",
   "execution_count": 10,
   "id": "1eeb8f56",
   "metadata": {},
   "outputs": [
    {
     "name": "stdout",
     "output_type": "stream",
     "text": [
      "1i2i3i4i5i"
     ]
    }
   ],
   "source": [
    "x=1\n",
    "while x<6:\n",
    "    print(x,end=\"i\")\n",
    "    x=x+1"
   ]
  },
  {
   "cell_type": "code",
   "execution_count": 18,
   "id": "86a980a5",
   "metadata": {},
   "outputs": [
    {
     "name": "stdout",
     "output_type": "stream",
     "text": [
      "5\n",
      "10\n",
      "15\n",
      "20\n",
      "25\n"
     ]
    }
   ],
   "source": [
    "x=5\n",
    "while x<=25:\n",
    "    print(x)\n",
    "    x=x+5"
   ]
  },
  {
   "cell_type": "code",
   "execution_count": 20,
   "id": "14727997",
   "metadata": {},
   "outputs": [
    {
     "name": "stdout",
     "output_type": "stream",
     "text": [
      "5\n",
      "25\n",
      "125\n",
      "625\n",
      "3125\n",
      "15625\n"
     ]
    }
   ],
   "source": [
    "x=5\n",
    "while x<20000:\n",
    "    print(x)\n",
    "    x=x*5"
   ]
  },
  {
   "cell_type": "code",
   "execution_count": 22,
   "id": "ac10cc7b",
   "metadata": {},
   "outputs": [
    {
     "name": "stdout",
     "output_type": "stream",
     "text": [
      "2\n",
      "10\n",
      "50\n",
      "250\n",
      "1250\n"
     ]
    }
   ],
   "source": [
    "x=2\n",
    "while x<=1250:\n",
    "    print(x)\n",
    "    x=x*5"
   ]
  },
  {
   "cell_type": "code",
   "execution_count": 24,
   "id": "4844a2bb",
   "metadata": {},
   "outputs": [
    {
     "name": "stdout",
     "output_type": "stream",
     "text": [
      "1250\n",
      "250\n",
      "50\n",
      "10\n",
      "2\n"
     ]
    }
   ],
   "source": [
    "x=1250\n",
    "while x>=2:\n",
    "    print(x)\n",
    "    x=x//5"
   ]
  },
  {
   "cell_type": "code",
   "execution_count": 31,
   "id": "bffcf033",
   "metadata": {},
   "outputs": [
    {
     "name": "stdout",
     "output_type": "stream",
     "text": [
      "5\n",
      "25\n",
      "625\n"
     ]
    }
   ],
   "source": [
    "x=5\n",
    "while x<=625:\n",
    "    print(x)\n",
    "    x=x*x"
   ]
  },
  {
   "cell_type": "code",
   "execution_count": 33,
   "id": "4b354ea7",
   "metadata": {},
   "outputs": [
    {
     "name": "stdout",
     "output_type": "stream",
     "text": [
      "625\n",
      "125\n",
      "25\n",
      "5\n",
      "1\n"
     ]
    }
   ],
   "source": [
    "x=625\n",
    "while x>=1:\n",
    "    print(x)\n",
    "    x=x//5"
   ]
  },
  {
   "cell_type": "code",
   "execution_count": 4,
   "id": "3fd75adc",
   "metadata": {},
   "outputs": [
    {
     "name": "stdout",
     "output_type": "stream",
     "text": [
      "9\n",
      "wired\n"
     ]
    }
   ],
   "source": [
    "n=int(input())\n",
    "if n%2==1:\n",
    "    print(\"wired\")\n",
    "elif n%2==0:\n",
    "    if 2<=n <=5:\n",
    "        print(\"not wired\")\n",
    "    elif 6<=n <=20:\n",
    "        print(\"wired\")\n",
    "    elif n>20:\n",
    "        print(\"not wired\")\n",
    "        \n",
    "        \n",
    "        \n",
    "        "
   ]
  },
  {
   "cell_type": "code",
   "execution_count": 1,
   "id": "3ed9ee88",
   "metadata": {},
   "outputs": [
    {
     "name": "stdout",
     "output_type": "stream",
     "text": [
      "Enter The Integer Number : 3\n",
      "WEIRD\n"
     ]
    }
   ],
   "source": [
    "n = int (input(\"Enter The Integer Number : \"))\n",
    "if n<=0:\n",
    "    print(\"Please Enter a Positive Integer\")\n",
    "elif n%2!=0:\n",
    "    print(\"WEIRD\")\n",
    "elif n % 2 == 0:  \n",
    "        if 2 <= n and n<= 5:\n",
    "            print(\"NOT WEIRD\")\n",
    "        elif 6 <= n and n<= 20:\n",
    "            print(\"WEIRD Less than 20\")\n",
    "        elif n > 20:\n",
    "            print(\"NOT WEIRD\")"
   ]
  },
  {
   "cell_type": "code",
   "execution_count": 6,
   "id": "b5a917cc",
   "metadata": {},
   "outputs": [
    {
     "name": "stdout",
     "output_type": "stream",
     "text": [
      "Enter the Number of Days books taken from library : 23\n",
      "115\n"
     ]
    }
   ],
   "source": [
    "books = int (input(\"Enter the Number of Days books taken from library : \"))\n",
    "if books<=5:\n",
    "    books=books*2\n",
    "    print(books)\n",
    "elif 6<=books and books<=10:\n",
    "    books=books*3\n",
    "    print(books)\n",
    "elif 11 <= books <= 15:\n",
    "        books = books * 4\n",
    "        print(books)\n",
    "else:\n",
    "        books = books * 5\n",
    "        print(books)"
   ]
  },
  {
   "cell_type": "code",
   "execution_count": null,
   "id": "e7d486d8",
   "metadata": {},
   "outputs": [],
   "source": []
  },
  {
   "cell_type": "code",
   "execution_count": null,
   "id": "51be9934",
   "metadata": {},
   "outputs": [],
   "source": []
  },
  {
   "cell_type": "code",
   "execution_count": null,
   "id": "ea292685",
   "metadata": {},
   "outputs": [],
   "source": []
  },
  {
   "cell_type": "code",
   "execution_count": null,
   "id": "466da646",
   "metadata": {},
   "outputs": [],
   "source": []
  }
 ],
 "metadata": {
  "kernelspec": {
   "display_name": "Python 3 (ipykernel)",
   "language": "python",
   "name": "python3"
  },
  "language_info": {
   "codemirror_mode": {
    "name": "ipython",
    "version": 3
   },
   "file_extension": ".py",
   "mimetype": "text/x-python",
   "name": "python",
   "nbconvert_exporter": "python",
   "pygments_lexer": "ipython3",
   "version": "3.11.5"
  }
 },
 "nbformat": 4,
 "nbformat_minor": 5
}
